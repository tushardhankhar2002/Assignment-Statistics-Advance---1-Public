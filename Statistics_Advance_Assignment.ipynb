{
  "nbformat": 4,
  "nbformat_minor": 0,
  "metadata": {
    "colab": {
      "provenance": []
    },
    "kernelspec": {
      "name": "python3",
      "display_name": "Python 3"
    },
    "language_info": {
      "name": "python"
    }
  },
  "cells": [
    {
      "cell_type": "markdown",
      "source": [
        "#**Theory Questons**"
      ],
      "metadata": {
        "id": "JJxTMHIbNByr"
      }
    },
    {
      "cell_type": "markdown",
      "source": [
        "**Q1- What is a random variable in probability theory?**"
      ],
      "metadata": {
        "id": "Iph6blLLNIf_"
      }
    },
    {
      "cell_type": "markdown",
      "source": [
        "In probability theory, a random variable is a numerical quantity whose value depends on the outcome of a random experiment.\n",
        "\n",
        "There are two main types:\n",
        "\n",
        "Discrete Random Variable: Takes on a countable number of possible values.\n",
        "\n",
        "Example: The number you get when you roll a die (1 through 6).\n",
        "\n",
        "Continuous Random Variable: Takes on values from a continuous range (usually real numbers).\n",
        "\n",
        "Example: The exact height of a randomly chosen person."
      ],
      "metadata": {
        "id": "__R6WD3fOL20"
      }
    },
    {
      "cell_type": "markdown",
      "source": [
        "**Q2-  What are the types of randm variables?**"
      ],
      "metadata": {
        "id": "FuyjOXyeONys"
      }
    },
    {
      "cell_type": "markdown",
      "source": [
        "A2- Types of Random Variables (Brief):\n",
        "\n",
        "Discrete Random Variable:\n",
        "Takes countable values (e.g., 0, 1, 2...).\n",
        "Example: Number of heads in 3 coin tosses.\n",
        "\n",
        "Continuous Random Variable:\n",
        "Takes any value in a continuous range.\n",
        "Example: Height of a person."
      ],
      "metadata": {
        "id": "wkLKY0M8OPPf"
      }
    },
    {
      "cell_type": "markdown",
      "source": [
        "**Q3-What is the difference between discrete and continuous distributions?**"
      ],
      "metadata": {
        "id": "b8RsV25cOowQ"
      }
    },
    {
      "cell_type": "markdown",
      "source": [
        "A3-Discrete Distribution:\n",
        "Deals with countable outcomes (like 0, 1, 2...).\n",
        "Example: Number of goals in a match.\n",
        "\n",
        "Continuous Distribution:\n",
        "Deals with uncountable outcomes over a range.\n",
        "Example: Temperature in a day."
      ],
      "metadata": {
        "id": "k0dJ9YmDOxIB"
      }
    },
    {
      "cell_type": "markdown",
      "source": [
        "**Q4-What are probability distribution functions (PDF)?**"
      ],
      "metadata": {
        "id": "gmzxoDluPB3p"
      }
    },
    {
      "cell_type": "markdown",
      "source": [
        "A4- A Probability Distribution Function (PDF) is a function that describes the likelihood of a continuous random variable taking on a specific value or falling within a particular range."
      ],
      "metadata": {
        "id": "qeATFTG_PJkO"
      }
    },
    {
      "cell_type": "markdown",
      "source": [
        "**Q5-How do cumulative distribution functions (CDF) differ from probability distribution functions (PDF)?**"
      ],
      "metadata": {
        "id": "vZMEKZu2RRFK"
      }
    },
    {
      "cell_type": "markdown",
      "source": [
        "PDF (Probability Density Function)\n",
        "\n",
        "Used for continuous random variables.\n",
        "\n",
        "Describes the likelihood of the variable taking on a specific value.\n",
        "\n",
        "Not a probability by itself—probability is area under the curve.\n",
        "\n",
        "Denoted as:\n",
        "\n",
        "𝑓\n",
        "(\n",
        "𝑥\n",
        ")\n",
        "=\n",
        "𝑑\n",
        "𝑑\n",
        "𝑥\n",
        "𝐹\n",
        "(\n",
        "𝑥\n",
        ")\n",
        "f(x)=\n",
        "dx\n",
        "d\n",
        "​\n",
        " F(x)\n",
        "CDF (Cumulative Distribution Function)\n",
        "\n",
        "Used for both continuous and discrete random variables.\n",
        "\n",
        "Describes the probability that the variable is less than or equal to a specific value.\n",
        "\n",
        "Always monotonically increasing and ranges from 0 to 1.\n",
        "\n",
        "Denoted as:\n",
        "\n",
        "𝐹\n",
        "(\n",
        "𝑥\n",
        ")\n",
        "=\n",
        "𝑃\n",
        "(\n",
        "𝑋\n",
        "≤\n",
        "𝑥\n",
        ")\n",
        "=\n",
        "∫\n",
        "−\n",
        "∞\n",
        "𝑥\n",
        "𝑓\n",
        "(\n",
        "𝑡\n",
        ")\n",
        "𝑑\n",
        "𝑡\n",
        "F(x)=P(X≤x)=∫\n",
        "−∞\n",
        "x\n",
        "​\n",
        " f(t)dt\n",
        "2. Output:\n",
        "PDF: Gives density, not direct probability.\n",
        "\n",
        "CDF: Gives actual cumulative probability up to a point.\n",
        "\n"
      ],
      "metadata": {
        "id": "_JmWGTFqRlRC"
      }
    },
    {
      "cell_type": "markdown",
      "source": [
        "**Q6-What is a discrete uniform distribution?**"
      ],
      "metadata": {
        "id": "m6PZZQncSNVs"
      }
    },
    {
      "cell_type": "markdown",
      "source": [
        "A6-A discrete uniform distribution is a type of probability distribution in which all outcomes are equally likely over a finite set of discrete values.\n",
        "\n"
      ],
      "metadata": {
        "id": "Ulz7JnyAST7U"
      }
    },
    {
      "cell_type": "markdown",
      "source": [
        "**Q7-What are the key properties of a Bernoulli distribution?**"
      ],
      "metadata": {
        "id": "0hafEqlBSd1s"
      }
    },
    {
      "cell_type": "markdown",
      "source": [
        "A7-What are the key properties of a Bernoulli distribution\n",
        "\n",
        "\n",
        "ChatGPT said:\n",
        "The Bernoulli distribution is one of the simplest probability distributions, modeling random experiments with only two possible outcomes: success (often coded as 1) and failure (coded as 0). It's typically used for binary outcomes, like coin flips, yes/no decisions, or pass/fail situations."
      ],
      "metadata": {
        "id": "R2aV5CS5SjHi"
      }
    },
    {
      "cell_type": "markdown",
      "source": [
        "**Q8- What is the binomial distribution, and how is it used in probability?**"
      ],
      "metadata": {
        "id": "BY4Td6GxS0p_"
      }
    },
    {
      "cell_type": "markdown",
      "source": [
        "A8- The binomial distribution is a probability distribution that models the number of successes in a fixed number of independent trials, where each trial has two possible outcomes: success or failure. It generalizes the Bernoulli distribution to multiple trials."
      ],
      "metadata": {
        "id": "j60LIibcS6_R"
      }
    },
    {
      "cell_type": "markdown",
      "source": [
        "**Q9-What is the Poisson distribution and where is it applied?**"
      ],
      "metadata": {
        "id": "qWwSpjCrTFye"
      }
    },
    {
      "cell_type": "markdown",
      "source": [
        "A9- The Poisson distribution is a probability distribution that models the number of events occurring in a fixed interval of time or space, given that these events happen with a known constant mean rate and are independent of the time since the last event. It is particularly useful when events occur randomly and independently over time or space."
      ],
      "metadata": {
        "id": "vu0mZtvdTLnB"
      }
    },
    {
      "cell_type": "markdown",
      "source": [
        "**Q10-  What is a continuous uniform distribution?**"
      ],
      "metadata": {
        "id": "6nbTs_UCTpZ-"
      }
    },
    {
      "cell_type": "markdown",
      "source": [
        "A10-A continuous uniform distribution is a type of probability distribution where all outcomes in a given range are equally likely to occur. It is called \"continuous\" because the random variable can take any value within a continuous interval, rather than just discrete values."
      ],
      "metadata": {
        "id": "vPs1Bfq_Txpq"
      }
    },
    {
      "cell_type": "markdown",
      "source": [
        "**Q11- What are the characteristics of a normal distribution?**"
      ],
      "metadata": {
        "id": "I0f_IiT8UHNm"
      }
    },
    {
      "cell_type": "markdown",
      "source": [
        "A11-A normal distribution, also known as the Gaussian distribution, is one of the most important and widely used probability distributions in statistics. It is symmetric and describes many natural phenomena, such as measurement errors, human heights, and IQ scores."
      ],
      "metadata": {
        "id": "ydhO3GBlUMw6"
      }
    },
    {
      "cell_type": "markdown",
      "source": [
        "**Q12- What is the standard normal distribution, and why is it important?**"
      ],
      "metadata": {
        "id": "zrVvq_LTUS09"
      }
    },
    {
      "cell_type": "markdown",
      "source": [
        "A12- The standard normal distribution is a special case of the normal distribution, which is a continuous probability distribution that is symmetric about the mean. It has the following key properties:\n",
        "The importance of the standard normal distribution lies in its role in statistics and probability:"
      ],
      "metadata": {
        "id": "cWoRDDkSUfkD"
      }
    },
    {
      "cell_type": "markdown",
      "source": [
        "**Q13-  What is the Central Limit Theorem (CLT), and why is it critical in statistics?**"
      ],
      "metadata": {
        "id": "lcPl0VEWU6Z-"
      }
    },
    {
      "cell_type": "markdown",
      "source": [
        "A13- The Central Limit Theorem (CLT) is one of the most important and powerful concepts in statistics. It states that:\n",
        "\n",
        "\"Regardless of the shape of the population distribution, the sampling distribution of the sample mean will approach a normal distribution as the sample size increases, provided the samples are independent and identically distributed.\""
      ],
      "metadata": {
        "id": "_JVCAG4yVBdy"
      }
    },
    {
      "cell_type": "markdown",
      "source": [
        "**Q14- How does the Central Limit Theorem relate to the normal distribution?**"
      ],
      "metadata": {
        "id": "-mdb1Fz0VXPS"
      }
    },
    {
      "cell_type": "markdown",
      "source": [
        "A14- The Central Limit Theorem (CLT) is directly related to the normal distribution in that it describes how the sampling distribution of the sample mean approaches a normal distribution as the sample size increases, regardless of the original population's distribution."
      ],
      "metadata": {
        "id": "rthYGbmaVfSS"
      }
    },
    {
      "cell_type": "markdown",
      "source": [
        "**Q15-What is the application of Z statistics in hypothesis testing?**"
      ],
      "metadata": {
        "id": "9hVhHvx1Vsev"
      }
    },
    {
      "cell_type": "markdown",
      "source": [
        "A15-Z-statistics play a crucial role in hypothesis testing by helping to determine whether the sample data provides enough evidence to reject a null hypothesis. The Z-statistic (or Z-score) is a measure of how many standard deviations a sample statistic (usually the sample mean) is away from the population parameter (usually the population mean). It is particularly used when the population variance or standard deviation is known, and the sample size is large (typically\n",
        "𝑛\n",
        ">\n",
        "30\n",
        "n>30)."
      ],
      "metadata": {
        "id": "KgsIEjXsVzvN"
      }
    },
    {
      "cell_type": "markdown",
      "source": [
        "**Q16- How do you calculate a Z-score, and what does it represent?**"
      ],
      "metadata": {
        "id": "fvThbTaJV8J2"
      }
    },
    {
      "cell_type": "markdown",
      "source": [
        "A16- A Z-score (also called a standard score) measures how many standard deviations a data point is away from the mean of the data distribution. It helps to standardize data, making it easier to compare values from different distributions or scales.\n",
        "\n",
        "The formula for calculating the Z-score of a specific data point\n",
        "𝑋\n",
        "X is:\n",
        "\n",
        "𝑍\n",
        "=\n",
        "𝑋\n",
        "−\n",
        "𝜇\n",
        "𝜎\n",
        "Z=\n",
        "σ\n",
        "X−μ\n",
        "​\n"
      ],
      "metadata": {
        "id": "lo9yJlwHWB6w"
      }
    },
    {
      "cell_type": "markdown",
      "source": [
        "**Q17- What are point estimates and interval estimates in statistics?**"
      ],
      "metadata": {
        "id": "sVZqg8gtWzzY"
      }
    },
    {
      "cell_type": "markdown",
      "source": [
        "A17- In statistics, point estimates and interval estimates are two methods used to estimate unknown population parameters based on sample data. Both are forms of statistical estimation, but they differ in the level of precision and uncertainty they convey."
      ],
      "metadata": {
        "id": "dM7_OKezW7sa"
      }
    },
    {
      "cell_type": "markdown",
      "source": [
        "**Q18- What is the significance of confidence intervals in statistical analysis?**"
      ],
      "metadata": {
        "id": "0zR4mIlIXJMG"
      }
    },
    {
      "cell_type": "markdown",
      "source": [
        "A18- Confidence intervals (CIs) are a crucial concept in statistical analysis because they provide more information than a single point estimate. Rather than just giving a single value as an estimate of a population parameter, a confidence interval offers a range of plausible values for that parameter, along with a degree of certainty (confidence level) that the true parameter lies within the interval."
      ],
      "metadata": {
        "id": "z87nBSWlXVCx"
      }
    },
    {
      "cell_type": "markdown",
      "source": [
        "**Q19-What is the relationship between a Z-score and a confidence interval?**"
      ],
      "metadata": {
        "id": "FWTbHjCWXcai"
      }
    },
    {
      "cell_type": "markdown",
      "source": [
        "A19- The Z-score and confidence interval are closely related in statistical inference, especially when estimating population parameters (such as the mean) based on sample data. The Z-score is used in the calculation of the confidence interval, particularly when the sample size is large and the population standard deviation is known."
      ],
      "metadata": {
        "id": "E00siWhbXpEF"
      }
    },
    {
      "cell_type": "markdown",
      "source": [
        "**Q20- How are Z-scores used to compare different distributions?**"
      ],
      "metadata": {
        "id": "0L5-IZ4QXyjB"
      }
    },
    {
      "cell_type": "markdown",
      "source": [
        "A20- Z-scores are very useful for comparing data points from different distributions because they standardize values and put them on the same scale, regardless of the original distributions' means and standard deviations. This allows for a more meaningful comparison between datasets that may have different units, means, or variances."
      ],
      "metadata": {
        "id": "FrtfeUqGX3eg"
      }
    },
    {
      "cell_type": "markdown",
      "source": [
        "**Q21- What are the assumptions for applying the Central Limit Theorem?**\n"
      ],
      "metadata": {
        "id": "7NNT980eYM1O"
      }
    },
    {
      "cell_type": "markdown",
      "source": [
        "A21-The Central Limit Theorem (CLT) is a fundamental concept in statistics, but its application relies on a few key assumptions. These assumptions are important to ensure that the CLT holds true and the results derived from it are valid."
      ],
      "metadata": {
        "id": "RvDZ6TUBYZW_"
      }
    },
    {
      "cell_type": "markdown",
      "source": [
        "**Q22-What is the concept of expected value in a probability distribution?**"
      ],
      "metadata": {
        "id": "hXq2OSduYowU"
      }
    },
    {
      "cell_type": "markdown",
      "source": [
        "A22-The expected value (EV), also known as the mean or mathematical expectation, is a key concept in probability theory that provides a measure of the central tendency of a random variable. In simple terms, it represents the long-term average or weighted average outcome of a random variable, considering the probabilities of all possible outcomes."
      ],
      "metadata": {
        "id": "JRbLe0AhY0G6"
      }
    },
    {
      "cell_type": "markdown",
      "source": [
        "**Q23- How does a probability distribution relate to the expected outcome of a random variable?**"
      ],
      "metadata": {
        "id": "fe8lZeR4Y8HZ"
      }
    },
    {
      "cell_type": "markdown",
      "source": [
        "A23-A probability distribution describes how the values of a random variable are distributed, including the probabilities associated with each possible outcome. The expected outcome (or expected value) of a random variable is closely related to its probability distribution. It represents the average value you would expect if you were to repeat an experiment or observation many times."
      ],
      "metadata": {
        "id": "wCisktLxZGdM"
      }
    }
  ]
}